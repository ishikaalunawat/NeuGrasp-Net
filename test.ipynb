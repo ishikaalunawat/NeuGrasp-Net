{
 "cells": [
  {
   "cell_type": "code",
   "execution_count": null,
   "metadata": {},
   "outputs": [],
   "source": [
    "import numpy as np"
   ]
  },
  {
   "cell_type": "code",
   "execution_count": null,
   "metadata": {},
   "outputs": [],
   "source": [
    "arr = np.load('results/predictions_58c827f23ec34543a72a4e7bc6fe362d.npz', allow_pickle=True)"
   ]
  },
  {
   "cell_type": "code",
   "execution_count": null,
   "metadata": {},
   "outputs": [],
   "source": [
    "arr.files"
   ]
  },
  {
   "cell_type": "code",
   "execution_count": null,
   "metadata": {},
   "outputs": [],
   "source": [
    "# arr['pred_grasps_cam']"
   ]
  },
  {
   "cell_type": "code",
   "execution_count": null,
   "metadata": {},
   "outputs": [],
   "source": [
    "arr['scores']"
   ]
  },
  {
   "cell_type": "code",
   "execution_count": null,
   "metadata": {},
   "outputs": [],
   "source": [
    "from mayavi import mlab\n",
    "mlab.init_notebook()"
   ]
  },
  {
   "cell_type": "code",
   "execution_count": null,
   "metadata": {},
   "outputs": [],
   "source": [
    "s = mlab.test_plot3d()\n",
    "s"
   ]
  },
  {
   "cell_type": "markdown",
   "metadata": {},
   "source": [
    "# Visualize"
   ]
  },
  {
   "cell_type": "code",
   "execution_count": 2,
   "metadata": {},
   "outputs": [
    {
     "ename": "ModuleNotFoundError",
     "evalue": "No module named 'visualization_utils'",
     "output_type": "error",
     "traceback": [
      "\u001b[0;31m---------------------------------------------------------------------------\u001b[0m",
      "\u001b[0;31mModuleNotFoundError\u001b[0m                       Traceback (most recent call last)",
      "\u001b[0;32m/tmp/ipykernel_24932/2903610865.py\u001b[0m in \u001b[0;36m<module>\u001b[0;34m\u001b[0m\n\u001b[0;32m----> 1\u001b[0;31m \u001b[0;32mfrom\u001b[0m \u001b[0mvisualization_utils\u001b[0m \u001b[0;32mimport\u001b[0m \u001b[0mdraw_pc_with_colors\u001b[0m\u001b[0;34m,\u001b[0m \u001b[0mplot_coordinates\u001b[0m\u001b[0;34m,\u001b[0m \u001b[0mdraw_grasps\u001b[0m\u001b[0;34m\u001b[0m\u001b[0;34m\u001b[0m\u001b[0m\n\u001b[0m",
      "\u001b[0;31mModuleNotFoundError\u001b[0m: No module named 'visualization_utils'"
     ]
    }
   ],
   "source": [
    "from visualization_utils import draw_pc_with_colors, plot_coordinates, draw_grasps"
   ]
  },
  {
   "cell_type": "code",
   "execution_count": null,
   "metadata": {},
   "outputs": [],
   "source": [
    "def visualize_grasps(full_pc, pred_grasps_cam, scores, plot_opencv_cam=False, pc_colors=None, gripper_openings=None, gripper_width=0.08):\n",
    "    \"\"\"Visualizes colored point cloud and predicted grasps. If given, colors grasps by segmap regions. \n",
    "    Thick grasp is most confident per segment. For scene point cloud predictions, colors grasps according to confidence.\n",
    "\n",
    "    Arguments:\n",
    "        full_pc {np.ndarray} -- Nx3 point cloud of the scene\n",
    "        pred_grasps_cam {dict[int:np.ndarray]} -- Predicted 4x4 grasp trafos per segment or for whole point cloud\n",
    "        scores {dict[int:np.ndarray]} -- Confidence scores for grasps\n",
    "\n",
    "    Keyword Arguments:\n",
    "        plot_opencv_cam {bool} -- plot camera coordinate frame (default: {False})\n",
    "        pc_colors {np.ndarray} -- Nx3 point cloud colors (default: {None})\n",
    "        gripper_openings {dict[int:np.ndarray]} -- Predicted grasp widths (default: {None})\n",
    "        gripper_width {float} -- If gripper_openings is None, plot grasp widths (default: {0.008})\n",
    "    \"\"\"\n",
    "\n",
    "    print('Visualizing...takes time')\n",
    "    cm = plt.get_cmap('rainbow')\n",
    "    cm2 = plt.get_cmap('gist_rainbow')\n",
    "\n",
    "    mlab.options.offscreen = True\n",
    "    fig = mlab.figure('Pred Grasps')\n",
    "    mlab.view(azimuth=180, elevation=180, distance=0.2)\n",
    "    draw_pc_with_colors(full_pc, pc_colors)\n",
    "    colors = [cm(1. * i/len(pred_grasps_cam))[:3] for i in range(len(pred_grasps_cam))]\n",
    "    colors2 = {k:cm2(0.5*np.max(scores[k]))[:3] for k in pred_grasps_cam if np.any(pred_grasps_cam[k])}\n",
    "    \n",
    "    if plot_opencv_cam:\n",
    "        plot_coordinates(np.zeros(3,),np.eye(3,3))\n",
    "    for i,k in enumerate(pred_grasps_cam):\n",
    "        if np.any(pred_grasps_cam[k]):\n",
    "            gripper_openings_k = np.ones(len(pred_grasps_cam[k]))*gripper_width if gripper_openings is None else gripper_openings[k]\n",
    "            if len(pred_grasps_cam) > 1:\n",
    "                draw_grasps(pred_grasps_cam[k], np.eye(4), color=colors[i], gripper_openings=gripper_openings_k)    \n",
    "                draw_grasps([pred_grasps_cam[k][np.argmax(scores[k])]], np.eye(4), color=colors2[k], \n",
    "                            gripper_openings=[gripper_openings_k[np.argmax(scores[k])]], tube_radius=0.0025)    \n",
    "            else:\n",
    "                colors3 = [cm2(0.5*score)[:3] for score in scores[k]]\n",
    "                draw_grasps(pred_grasps_cam[k], np.eye(4), colors=colors3, gripper_openings=gripper_openings_k)    \n",
    "    # mlab.show()\n",
    "    mlab.savefig('figure1.png')"
   ]
  },
  {
   "cell_type": "code",
   "execution_count": null,
   "metadata": {},
   "outputs": [],
   "source": []
  }
 ],
 "metadata": {
  "kernelspec": {
   "display_name": "contact_graspnet_env",
   "language": "python",
   "name": "python3"
  },
  "language_info": {
   "codemirror_mode": {
    "name": "ipython",
    "version": 3
   },
   "file_extension": ".py",
   "mimetype": "text/x-python",
   "name": "python",
   "nbconvert_exporter": "python",
   "pygments_lexer": "ipython3",
   "version": "3.7.15"
  },
  "orig_nbformat": 4
 },
 "nbformat": 4,
 "nbformat_minor": 2
}
