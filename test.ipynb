{
 "cells": [
  {
   "cell_type": "code",
   "execution_count": 1,
   "metadata": {},
   "outputs": [
    {
     "name": "stdout",
     "output_type": "stream",
     "text": [
      "Notebook initialized with ipy backend.\n"
     ]
    }
   ],
   "source": [
    "%gui qt\n",
    "import numpy as np\n",
    "# import cv2\n",
    "import re\n",
    "\n",
    "from xvfbwrapper import Xvfb\n",
    "vdisplay = Xvfb(width=1920, height=1080)\n",
    "vdisplay.start()\n",
    "import mayavi.mlab as mlab\n",
    "mlab.init_notebook()\n",
    "# trimesh.Scene([scene_mesh]).show()\n",
    "gripper_width = 0.08\n",
    "import matplotlib.pyplot as plt\n",
    "from contact_graspnet.visualization_utils import plot_coordinates, draw_grasps, draw_pc_with_colors, visualize_grasps\n",
    "from contact_graspnet.data import depth2pc"
   ]
  },
  {
   "cell_type": "code",
   "execution_count": 2,
   "metadata": {},
   "outputs": [],
   "source": [
    "result_path = '/home/hypatia/6D-DAAD/contact_graspnet/results/predictions_0a00a56361dd4513ba1f9d53967a6b1d.npz'\n",
    "depth_root = '/home/hypatia/6D-DAAD/GIGA/data/packed/data_packed_train_random_raw_4M_GPG_60_packked/scenes/'\n",
    "scene_id = re.split('/|_', result_path)[-1]\n",
    "\n",
    "K = np.array([[540., 0.0, 320.], [0.0, 540., 240.], [0.0, 0.0, 1.0]])\n",
    "depth_imgs = np.load(depth_root + scene_id, allow_pickle=True)['depth_imgs'][0]\n",
    "pc_full = depth2pc(depth_imgs, K)[0]\n",
    "\n",
    "\n",
    "# pc_full[:, 2] *=  -1\n",
    "results = np.load(result_path, allow_pickle=True)\n",
    "pred_grasps_cam, scores = results['pred_grasps_cam'].item(), results['scores'].item()"
   ]
  },
  {
   "cell_type": "code",
   "execution_count": 3,
   "metadata": {},
   "outputs": [
    {
     "name": "stdout",
     "output_type": "stream",
     "text": [
      "Visualizing...takes time\n"
     ]
    }
   ],
   "source": [
    "cropped_pc = pc_full[pc_full[:,2]<0.5,:]\n",
    "fig = visualize_grasps(cropped_pc, pred_grasps_cam, scores, plot_opencv_cam=True, pc_colors=None)"
   ]
  },
  {
   "cell_type": "code",
   "execution_count": 4,
   "metadata": {},
   "outputs": [
    {
     "data": {
      "application/vnd.jupyter.widget-view+json": {
       "model_id": "d31b0616338c4d0e8a35cd9759f27a61",
       "version_major": 2,
       "version_minor": 0
      },
      "text/plain": [
       "Image(value=b'\\x89PNG\\r\\n\\x1a\\n\\x00\\x00\\x00\\rIHDR\\x00\\x00\\x01\\x90\\x00\\x00\\x01^\\x08\\x02\\x00\\x00\\x00$?\\xde_\\x00\\…"
      ]
     },
     "metadata": {},
     "output_type": "display_data"
    }
   ],
   "source": [
    "fig"
   ]
  }
 ],
 "metadata": {
  "kernelspec": {
   "display_name": "contact_graspnet_env",
   "language": "python",
   "name": "python3"
  },
  "language_info": {
   "codemirror_mode": {
    "name": "ipython",
    "version": 3
   },
   "file_extension": ".py",
   "mimetype": "text/x-python",
   "name": "python",
   "nbconvert_exporter": "python",
   "pygments_lexer": "ipython3",
   "version": "3.7.9"
  },
  "orig_nbformat": 4
 },
 "nbformat": 4,
 "nbformat_minor": 2
}
