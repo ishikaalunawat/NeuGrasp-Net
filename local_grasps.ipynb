{
 "cells": [
  {
   "cell_type": "code",
   "execution_count": 3,
   "metadata": {},
   "outputs": [],
   "source": [
    "import numpy as np\n",
    "import plotly.graph_objects as go\n",
    "from vgn.utils.implicit import get_scene_from_mesh_pose_list\n",
    "import open3d as o3d\n",
    "from open3d import JVisualizer"
   ]
  },
  {
   "cell_type": "code",
   "execution_count": 16,
   "metadata": {},
   "outputs": [],
   "source": [
    "root = \"data/pile/data_pile_train_random_raw_4M_radomized_views\"\n",
    "scene_id = \"0a0b691837b745568fa6f98d546027ed\"\n",
    "grasp_id = \"0\"\n",
    "\n",
    "mesh_file_name = scene_id + \".npz\"\n",
    "grasp_file_name = grasp_id + \".npz\"\n",
    "mesh_pose_list = np.load(root + f\"/mesh_pose_list/{mesh_file_name}\", allow_pickle=True)['pc']\n",
    "grasp_local = np.load(root + f\"/grasp_point_clouds/{grasp_file_name}\", allow_pickle=True)['pc']\n",
    "\n",
    "\n",
    "# Obtain point cloud and normals using ground truth meshes\n",
    "scene_mesh = get_scene_from_mesh_pose_list(mesh_pose_list)\n",
    "o3d_scene_mesh = scene_mesh.as_open3d\n",
    "o3d_scene_mesh.compute_vertex_normals()\n",
    "pc = o3d_scene_mesh.sample_points_uniformly(number_of_points=10000)\n",
    "grasp_pc = grasp_local\n",
    "# pc.colors = o3d.utility.Vector3dVector(np.tile(np.array([0, 0, 0]), (np.asarray(pc.points).shape[0], 1)))"
   ]
  },
  {
   "cell_type": "code",
   "execution_count": 17,
   "metadata": {},
   "outputs": [
    {
     "data": {
      "text/plain": [
       "(1000, 2)"
      ]
     },
     "execution_count": 17,
     "metadata": {},
     "output_type": "execute_result"
    }
   ],
   "source": [
    "grasp_pc.shape"
   ]
  },
  {
   "cell_type": "code",
   "execution_count": 7,
   "metadata": {},
   "outputs": [
    {
     "ename": "IndexError",
     "evalue": "index 0 is out of bounds for axis 1 with size 0",
     "output_type": "error",
     "traceback": [
      "\u001b[0;31m---------------------------------------------------------------------------\u001b[0m",
      "\u001b[0;31mIndexError\u001b[0m                                Traceback (most recent call last)",
      "\u001b[1;32m/home/hypatia/6D-DAAD/GIGA/local_grasps.ipynb Cell 4\u001b[0m in \u001b[0;36m<cell line: 3>\u001b[0;34m()\u001b[0m\n\u001b[1;32m      <a href='vscode-notebook-cell://ssh-remote%2Blab/home/hypatia/6D-DAAD/GIGA/local_grasps.ipynb#W3sdnNjb2RlLXJlbW90ZQ%3D%3D?line=0'>1</a>\u001b[0m pc \u001b[39m=\u001b[39m np\u001b[39m.\u001b[39masarray(pc\u001b[39m.\u001b[39mpoints)\n\u001b[1;32m      <a href='vscode-notebook-cell://ssh-remote%2Blab/home/hypatia/6D-DAAD/GIGA/local_grasps.ipynb#W3sdnNjb2RlLXJlbW90ZQ%3D%3D?line=2'>3</a>\u001b[0m fig \u001b[39m=\u001b[39m go\u001b[39m.\u001b[39mFigure(data\u001b[39m=\u001b[39m[go\u001b[39m.\u001b[39mScatter3d(x\u001b[39m=\u001b[39mpc[:,\u001b[39m0\u001b[39m], y\u001b[39m=\u001b[39mpc[:,\u001b[39m1\u001b[39m], z\u001b[39m=\u001b[39mpc[:,\u001b[39m2\u001b[39m],\n\u001b[1;32m      <a href='vscode-notebook-cell://ssh-remote%2Blab/home/hypatia/6D-DAAD/GIGA/local_grasps.ipynb#W3sdnNjb2RlLXJlbW90ZQ%3D%3D?line=3'>4</a>\u001b[0m                                    mode\u001b[39m=\u001b[39m\u001b[39m'\u001b[39m\u001b[39mmarkers\u001b[39m\u001b[39m'\u001b[39m),\n\u001b[0;32m----> <a href='vscode-notebook-cell://ssh-remote%2Blab/home/hypatia/6D-DAAD/GIGA/local_grasps.ipynb#W3sdnNjb2RlLXJlbW90ZQ%3D%3D?line=4'>5</a>\u001b[0m                       go\u001b[39m.\u001b[39mScatter3d(x\u001b[39m=\u001b[39mgrasp_pc[:,\u001b[39m0\u001b[39;49m], y\u001b[39m=\u001b[39mgrasp_pc[:,\u001b[39m1\u001b[39m], z\u001b[39m=\u001b[39mgrasp_pc[:,\u001b[39m2\u001b[39m],\n\u001b[1;32m      <a href='vscode-notebook-cell://ssh-remote%2Blab/home/hypatia/6D-DAAD/GIGA/local_grasps.ipynb#W3sdnNjb2RlLXJlbW90ZQ%3D%3D?line=5'>6</a>\u001b[0m                                    mode\u001b[39m=\u001b[39m\u001b[39m'\u001b[39m\u001b[39mmarkers\u001b[39m\u001b[39m'\u001b[39m)])\n\u001b[1;32m      <a href='vscode-notebook-cell://ssh-remote%2Blab/home/hypatia/6D-DAAD/GIGA/local_grasps.ipynb#W3sdnNjb2RlLXJlbW90ZQ%3D%3D?line=6'>7</a>\u001b[0m fig\u001b[39m.\u001b[39mshow()\n",
      "\u001b[0;31mIndexError\u001b[0m: index 0 is out of bounds for axis 1 with size 0"
     ]
    }
   ],
   "source": [
    "pc = np.asarray(pc.points)\n",
    "\n",
    "fig = go.Figure(data=[go.Scatter3d(x=pc[:,0], y=pc[:,1], z=pc[:,2],\n",
    "                                   mode='markers'),\n",
    "                      go.Scatter3d(x=grasp_pc[:,0], y=grasp_pc[:,1], z=grasp_pc[:,2],\n",
    "                                   mode='markers')])\n",
    "fig.show()"
   ]
  },
  {
   "cell_type": "code",
   "execution_count": null,
   "metadata": {},
   "outputs": [],
   "source": []
  }
 ],
 "metadata": {
  "kernelspec": {
   "display_name": "giga",
   "language": "python",
   "name": "python3"
  },
  "language_info": {
   "codemirror_mode": {
    "name": "ipython",
    "version": 3
   },
   "file_extension": ".py",
   "mimetype": "text/x-python",
   "name": "python",
   "nbconvert_exporter": "python",
   "pygments_lexer": "ipython3",
   "version": "3.8.13"
  },
  "orig_nbformat": 4
 },
 "nbformat": 4,
 "nbformat_minor": 2
}
