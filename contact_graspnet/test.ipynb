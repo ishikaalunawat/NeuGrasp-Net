{
 "cells": [
  {
   "cell_type": "markdown",
   "metadata": {},
   "source": [
    "# Visualize"
   ]
  },
  {
   "cell_type": "code",
   "execution_count": 1,
   "metadata": {},
   "outputs": [
    {
     "name": "stdout",
     "output_type": "stream",
     "text": [
      "********************************************************************************\n",
      "WARNING: Imported VTK version (8.2) does not match the one used\n",
      "         to build the TVTK classes (9.2). This may cause problems.\n",
      "         Please rebuild TVTK.\n",
      "********************************************************************************\n",
      "\n",
      "Notebook initialized with ipy backend.\n"
     ]
    }
   ],
   "source": [
    "# from visualization_utils import draw_pc_with_colors, plot_coordinates, draw_grasps\n",
    "import matplotlib.pyplot as plt\n",
    "import numpy as np\n",
    "import mayavi.mlab as mlab\n",
    "import mesh_utils\n",
    "import re\n",
    "mlab.init_notebook()"
   ]
  },
  {
   "cell_type": "markdown",
   "metadata": {},
   "source": [
    "## Helper functions"
   ]
  },
  {
   "cell_type": "code",
   "execution_count": 7,
   "metadata": {},
   "outputs": [],
   "source": [
    "def plot_coordinates(t,r, tube_radius=0.005):\n",
    "    \"\"\"\n",
    "    plots coordinate frame\n",
    "\n",
    "    Arguments:\n",
    "        t {np.ndarray} -- translation vector\n",
    "        r {np.ndarray} -- rotation matrix\n",
    "\n",
    "    Keyword Arguments:\n",
    "        tube_radius {float} -- radius of the plotted tubes (default: {0.005})\n",
    "    \"\"\"\n",
    "    mlab.plot3d([t[0],t[0]+0.2*r[0,0]], [t[1],t[1]+0.2*r[1,0]], [t[2],t[2]+0.2*r[2,0]], color=(1,0,0), tube_radius=tube_radius, opacity=1)\n",
    "    mlab.plot3d([t[0],t[0]+0.2*r[0,1]], [t[1],t[1]+0.2*r[1,1]], [t[2],t[2]+0.2*r[2,1]], color=(0,1,0), tube_radius=tube_radius, opacity=1)\n",
    "    mlab.plot3d([t[0],t[0]+0.2*r[0,2]], [t[1],t[1]+0.2*r[1,2]], [t[2],t[2]+0.2*r[2,2]], color=(0,0,1), tube_radius=tube_radius, opacity=1)\n",
    "    \n",
    "def draw_pc_with_colors(pc, pc_colors=None, single_color=(0.3,0.3,0.3), mode='2dsquare', scale_factor=0.0018):\n",
    "    \"\"\"\n",
    "    Draws colored point clouds\n",
    "\n",
    "    Arguments:\n",
    "        pc {np.ndarray} -- Nx3 point cloud\n",
    "        pc_colors {np.ndarray} -- Nx3 point cloud colors\n",
    "\n",
    "    Keyword Arguments:\n",
    "        single_color {tuple} -- single color for point cloud (default: {(0.3,0.3,0.3)})\n",
    "        mode {str} -- primitive type to plot (default: {'point'})\n",
    "        scale_factor {float} -- Scale of primitives. Does not work for points. (default: {0.002})\n",
    "\n",
    "    \"\"\"\n",
    "\n",
    "    if pc_colors is None:\n",
    "        mlab.points3d(pc[:, 0], pc[:, 1], pc[:, 2], color=single_color, scale_factor=scale_factor, mode=mode)\n",
    "    else:\n",
    "        #create direct grid as 256**3 x 4 array \n",
    "        def create_8bit_rgb_lut():\n",
    "            xl = np.mgrid[0:256, 0:256, 0:256]\n",
    "            lut = np.vstack((xl[0].reshape(1, 256**3),\n",
    "                                xl[1].reshape(1, 256**3),\n",
    "                                xl[2].reshape(1, 256**3),\n",
    "                                255 * np.ones((1, 256**3)))).T\n",
    "            return lut.astype('int32')\n",
    "        \n",
    "        scalars = pc_colors[:,0]*256**2 + pc_colors[:,1]*256 + pc_colors[:,2]\n",
    "        rgb_lut = create_8bit_rgb_lut()\n",
    "        points_mlab = mlab.points3d(pc[:, 0], pc[:, 1], pc[:, 2], scalars, mode=mode, scale_factor=.0018)\n",
    "        points_mlab.glyph.scale_mode = 'scale_by_vector'\n",
    "        points_mlab.module_manager.scalar_lut_manager.lut._vtk_obj.SetTableRange(0, rgb_lut.shape[0])\n",
    "        points_mlab.module_manager.scalar_lut_manager.lut.number_of_colors = rgb_lut.shape[0]\n",
    "        points_mlab.module_manager.scalar_lut_manager.lut.table = rgb_lut\n",
    "\n",
    "def draw_grasps(grasps, cam_pose, gripper_openings, color=(0,1.,0), colors=None, show_gripper_mesh=False, tube_radius=0.0008):\n",
    "    \"\"\"\n",
    "    Draws wireframe grasps from given camera pose and with given gripper openings\n",
    "\n",
    "    Arguments:\n",
    "        grasps {np.ndarray} -- Nx4x4 grasp pose transformations\n",
    "        cam_pose {np.ndarray} -- 4x4 camera pose transformation\n",
    "        gripper_openings {np.ndarray} -- Nx1 gripper openings\n",
    "\n",
    "    Keyword Arguments:\n",
    "        color {tuple} -- color of all grasps (default: {(0,1.,0)})\n",
    "        colors {np.ndarray} -- Nx3 color of each grasp (default: {None})\n",
    "        tube_radius {float} -- Radius of the grasp wireframes (default: {0.0008})\n",
    "        show_gripper_mesh {bool} -- Renders the gripper mesh for one of the grasp poses (default: {False})\n",
    "    \"\"\"\n",
    "\n",
    "    gripper = mesh_utils.create_gripper('panda')\n",
    "    gripper_control_points = gripper.get_control_point_tensor(1, False, convex_hull=False).squeeze()\n",
    "    mid_point = 0.5*(gripper_control_points[1, :] + gripper_control_points[2, :])\n",
    "    grasp_line_plot = np.array([np.zeros((3,)), mid_point, gripper_control_points[1], gripper_control_points[3], \n",
    "                                gripper_control_points[1], gripper_control_points[2], gripper_control_points[4]])\n",
    "\n",
    "    if show_gripper_mesh and len(grasps) > 0:\n",
    "        plot_mesh(gripper.hand, cam_pose, grasps[0])\n",
    "        \n",
    "    all_pts = []\n",
    "    connections = []\n",
    "    index = 0\n",
    "    N = 7\n",
    "    for i,(g,g_opening) in enumerate(zip(grasps, gripper_openings)):\n",
    "        gripper_control_points_closed = grasp_line_plot.copy()\n",
    "        gripper_control_points_closed[2:,0] = np.sign(grasp_line_plot[2:,0]) * g_opening/2\n",
    "        \n",
    "        pts = np.matmul(gripper_control_points_closed, g[:3, :3].T)\n",
    "        pts += np.expand_dims(g[:3, 3], 0)\n",
    "        pts_homog = np.concatenate((pts, np.ones((7, 1))),axis=1)\n",
    "        pts = np.dot(pts_homog, cam_pose.T)[:,:3]\n",
    "        \n",
    "        color = color if colors is None else colors[i]\n",
    "        \n",
    "        all_pts.append(pts)\n",
    "        connections.append(np.vstack([np.arange(index,   index + N - 1.5),\n",
    "                                      np.arange(index + 1, index + N - .5)]).T)\n",
    "        index += N\n",
    "        # mlab.plot3d(pts[:, 0], pts[:, 1], pts[:, 2], color=color, tube_radius=tube_radius, opacity=1.0)\n",
    "    \n",
    "    # speeds up plot3d because only one vtk object\n",
    "    all_pts = np.vstack(all_pts)\n",
    "    connections = np.vstack(connections)\n",
    "    src = mlab.pipeline.scalar_scatter(all_pts[:,0], all_pts[:,1], all_pts[:,2])\n",
    "    src.mlab_source.dataset.lines = connections\n",
    "    src.update()\n",
    "    lines =mlab.pipeline.tube(src, tube_radius=tube_radius, tube_sides=12)\n",
    "    mlab.pipeline.surface(lines, color=color, opacity=1.0)"
   ]
  },
  {
   "cell_type": "code",
   "execution_count": 8,
   "metadata": {},
   "outputs": [],
   "source": [
    "def visualize_grasps(full_pc, pred_grasps_cam, scores, plot_opencv_cam=False, pc_colors=None, gripper_openings=None, gripper_width=0.08):\n",
    "    \"\"\"Visualizes colored point cloud and predicted grasps. If given, colors grasps by segmap regions. \n",
    "    Thick grasp is most confident per segment. For scene point cloud predictions, colors grasps according to confidence.\n",
    "\n",
    "    Arguments:\n",
    "        full_pc {np.ndarray} -- Nx3 point cloud of the scene\n",
    "        pred_grasps_cam {dict[int:np.ndarray]} -- Predicted 4x4 grasp trafos per segment or for whole point cloud\n",
    "        scores {dict[int:np.ndarray]} -- Confidence scores for grasps\n",
    "\n",
    "    Keyword Arguments:\n",
    "        plot_opencv_cam {bool} -- plot camera coordinate frame (default: {False})\n",
    "        pc_colors {np.ndarray} -- Nx3 point cloud colors (default: {None})\n",
    "        gripper_openings {dict[int:np.ndarray]} -- Predicted grasp widths (default: {None})\n",
    "        gripper_width {float} -- If gripper_openings is None, plot grasp widths (default: {0.008})\n",
    "    \"\"\"\n",
    "\n",
    "    print('Visualizing...takes time')\n",
    "    cm = plt.get_cmap('rainbow')\n",
    "    cm2 = plt.get_cmap('gist_rainbow')\n",
    "\n",
    "    mlab.options.offscreen = True\n",
    "    fig = mlab.figure('Pred Grasps')\n",
    "    mlab.clf(fig)\n",
    "    mlab.view(azimuth=180, elevation=180, distance=0.2)\n",
    "    draw_pc_with_colors(full_pc, pc_colors)\n",
    "    colors = [cm(1. * i/len(pred_grasps_cam))[:3] for i in range(len(pred_grasps_cam))]\n",
    "    colors2 = {k:cm2(0.5*np.max(scores[k]))[:3] for k in pred_grasps_cam if np.any(pred_grasps_cam[k])}\n",
    "    \n",
    "    if plot_opencv_cam:\n",
    "        plot_coordinates(np.zeros(3,),np.eye(3,3))\n",
    "    for i,k in enumerate(pred_grasps_cam):\n",
    "        # print(i, k)\n",
    "        if np.any(pred_grasps_cam[k]):\n",
    "            gripper_openings_k = np.ones(len(pred_grasps_cam[k]))*gripper_width if gripper_openings is None else gripper_openings[k]\n",
    "            if len(pred_grasps_cam) > 1:\n",
    "                draw_grasps(pred_grasps_cam[k], np.eye(4), color=colors[i], gripper_openings=gripper_openings_k)    \n",
    "                draw_grasps([pred_grasps_cam[k][np.argmax(scores[k])]], np.eye(4), color=colors2[k], \n",
    "                            gripper_openings=[gripper_openings_k[np.argmax(scores[k])]], tube_radius=0.0025)    \n",
    "            else:\n",
    "                colors3 = [cm2(0.5*score)[:3] for score in scores[k]]\n",
    "                draw_grasps(pred_grasps_cam[k], np.eye(4), colors=colors3, gripper_openings=gripper_openings_k)    \n",
    "    #mlab.show()\n",
    "    return fig"
   ]
  },
  {
   "cell_type": "markdown",
   "metadata": {},
   "source": [
    "## Dataloading"
   ]
  },
  {
   "cell_type": "markdown",
   "metadata": {},
   "source": [
    "Making it looped!"
   ]
  },
  {
   "cell_type": "code",
   "execution_count": 13,
   "metadata": {},
   "outputs": [],
   "source": [
    "import os\n",
    "os.makedirs('../visualizations/', exist_ok=True)"
   ]
  },
  {
   "cell_type": "code",
   "execution_count": 14,
   "metadata": {},
   "outputs": [
    {
     "name": "stdout",
     "output_type": "stream",
     "text": [
      "Visualizing...takes time\n"
     ]
    }
   ],
   "source": [
    "for result_path in os.listdir('../results/'):\n",
    "\n",
    "    # result_path = 'results/predictions_26dc7e5ae9d44eb19f47213f9721a7ea.npz'\n",
    "    result_path = 'results/' + result_path\n",
    "    pc_root = '/media/hypatia/6903154a-554e-4ca5-987c-4a24f3250e97/home/hypatia/6D-DAAD/GIGA/data/pile/data_pile_train_constructed_4M_HighRes_radomized_views_no_table/point_clouds/'\n",
    "    scene_id = re.split('/|_', result_path)[2]\n",
    "    if scene_id=='1da45121896b480f98acb24cbe6a3342.npz':\n",
    "        pc_full = np.load(pc_root + scene_id, allow_pickle=True)['pc'] # OURS\n",
    "        results = np.load('/home/hypatia/6D-DAAD/contact_graspnet/'  + result_path, allow_pickle=True)\n",
    "        pred_grasps_cam, scores = results['pred_grasps_cam'].item(), results['scores'].item()\n",
    "        # pred_grasps_cam, scores = pred_grasps_cam.item().get(-1),scores.item().get(-1)\n",
    "\n",
    "        fig = visualize_grasps(pc_full, pred_grasps_cam, scores, plot_opencv_cam=True)\n",
    "        # mlab.savefig(f\"../visualizations/{scene_id.split('.')[0]}.png\", figure=fig)\n",
    "        mlab.show()"
   ]
  },
  {
   "cell_type": "code",
   "execution_count": 15,
   "metadata": {},
   "outputs": [
    {
     "data": {
      "application/vnd.jupyter.widget-view+json": {
       "model_id": "72bd2a764efe43ea9a2fab5c2e512a2c",
       "version_major": 2,
       "version_minor": 0
      },
      "text/plain": [
       "Image(value=b'\\x89PNG\\r\\n\\x1a\\n\\x00\\x00\\x00\\rIHDR\\x00\\x00\\x01\\x90\\x00\\x00\\x01^\\x08\\x02\\x00\\x00\\x00$?\\xde_\\x00\\…"
      ]
     },
     "metadata": {},
     "output_type": "display_data"
    }
   ],
   "source": [
    "fig"
   ]
  },
  {
   "cell_type": "code",
   "execution_count": null,
   "metadata": {},
   "outputs": [],
   "source": []
  }
 ],
 "metadata": {
  "kernelspec": {
   "display_name": "contact_graspnet_env",
   "language": "python",
   "name": "python3"
  },
  "language_info": {
   "codemirror_mode": {
    "name": "ipython",
    "version": 3
   },
   "file_extension": ".py",
   "mimetype": "text/x-python",
   "name": "python",
   "nbconvert_exporter": "python",
   "pygments_lexer": "ipython3",
   "version": "3.7.15"
  },
  "orig_nbformat": 4
 },
 "nbformat": 4,
 "nbformat_minor": 2
}
