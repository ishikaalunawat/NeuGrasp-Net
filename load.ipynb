{
 "cells": [
  {
   "cell_type": "code",
   "execution_count": 1,
   "metadata": {},
   "outputs": [],
   "source": [
    "import numpy as np\n",
    "# import cv2\n",
    "# import trimesh\n",
    "# from torch import sigmoid\n",
    "# from vgn.ConvONets.utils import libmcubes\n",
    "# import mcubes"
   ]
  },
  {
   "cell_type": "code",
   "execution_count": 4,
   "metadata": {},
   "outputs": [
    {
     "ename": "FileNotFoundError",
     "evalue": "[Errno 2] No such file or directory: 'data/pile/data_pile_train_raw_4M/scenes'",
     "output_type": "error",
     "traceback": [
      "\u001b[0;31m---------------------------------------------------------------------------\u001b[0m",
      "\u001b[0;31mFileNotFoundError\u001b[0m                         Traceback (most recent call last)",
      "\u001b[1;32m/home/hypatia/GIGA-TSDF/GIGA/load.ipynb Cell 2\u001b[0m in \u001b[0;36m<cell line: 2>\u001b[0;34m()\u001b[0m\n\u001b[1;32m      <a href='vscode-notebook-cell://ssh-remote%2Blab/home/hypatia/GIGA-TSDF/GIGA/load.ipynb#W1sdnNjb2RlLXJlbW90ZQ%3D%3D?line=0'>1</a>\u001b[0m \u001b[39mimport\u001b[39;00m \u001b[39mos\u001b[39;00m\n\u001b[0;32m----> <a href='vscode-notebook-cell://ssh-remote%2Blab/home/hypatia/GIGA-TSDF/GIGA/load.ipynb#W1sdnNjb2RlLXJlbW90ZQ%3D%3D?line=1'>2</a>\u001b[0m \u001b[39mlen\u001b[39m(os\u001b[39m.\u001b[39;49mlistdir(\u001b[39m'\u001b[39;49m\u001b[39mdata/pile/data_pile_train_raw_4M/scenes\u001b[39;49m\u001b[39m'\u001b[39;49m))\n",
      "\u001b[0;31mFileNotFoundError\u001b[0m: [Errno 2] No such file or directory: 'data/pile/data_pile_train_raw_4M/scenes'"
     ]
    }
   ],
   "source": [
    "import os\n",
    "len(os.listdir('data/pile/data_pile_train_raw_4M/scenes'))"
   ]
  },
  {
   "cell_type": "code",
   "execution_count": 9,
   "metadata": {},
   "outputs": [],
   "source": [
    "di = {\"Train\" + str(k):v for k, v in enumerate(np.random.rand(5))}"
   ]
  },
  {
   "cell_type": "code",
   "execution_count": 11,
   "metadata": {},
   "outputs": [
    {
     "name": "stdout",
     "output_type": "stream",
     "text": [
      "Val Train0: 0.3900 Train1: 0.5451 Train2: 0.6462 Train3: 0.3115 Train4: 0.4339\n"
     ]
    }
   ],
   "source": [
    "msg = 'Val'\n",
    "for k, v in di.items():\n",
    "    msg += f' {k}: {v:.4f}'\n",
    "\n",
    "print(msg)"
   ]
  },
  {
   "cell_type": "markdown",
   "metadata": {},
   "source": [
    "# Generate dataset log file"
   ]
  },
  {
   "cell_type": "code",
   "execution_count": 5,
   "metadata": {},
   "outputs": [
    {
     "data": {
      "text/plain": [
       "623934"
      ]
     },
     "execution_count": 5,
     "metadata": {},
     "output_type": "execute_result"
    }
   ],
   "source": [
    "import pandas as pd\n",
    "from pathlib import Path\n",
    "\n",
    "dataset = Path('data_pile_train_random_raw_4M')\n",
    "df = pd.read_csv('data/pile/data_pile_train_random_raw_4M/grasps.csv')\n",
    "len(df)"
   ]
  },
  {
   "cell_type": "code",
   "execution_count": 6,
   "metadata": {},
   "outputs": [],
   "source": [
    "counts_df = df.groupby('scene_id').size().reset_index(name='count')\n",
    "labels_df = df.groupby(['scene_id', 'label']).size().reset_index(name='count')\n",
    "filename = 'summary_%s.txt' % (dataset.name)\n",
    "with open(filename, 'w') as f:\n",
    "    summary = \"Dataset description: \\n Total samples: %d\\n Total number of scenes: %d \\n Max samples of scenes: %d \\n Mean samples of scenes: %d \\n Min samples of scenes: %d \\n\\n\" % (len(df), len(counts_df), counts_df['count'].max(), int(counts_df['count'].mean()), counts_df['count'].min())\n",
    "    f.write(summary)\n",
    "\n",
    "counts_df.to_csv(filename, mode = 'a', sep='\\t', header=True, index=False)\n",
    "labels_df.to_csv(filename, mode = 'a', sep='\\t', header=True, index=False)"
   ]
  },
  {
   "cell_type": "code",
   "execution_count": 7,
   "metadata": {},
   "outputs": [
    {
     "name": "stdout",
     "output_type": "stream",
     "text": [
      " Total samples: 623934; Total number of scenes: 33311 ; Max samples of scenes: 74 ; Mean samples of scenes: 18 \n"
     ]
    }
   ],
   "source": [
    "with open(filename, 'r') as f:\n",
    "    print((\";\").join(f.readlines()[1:5]).replace('\\n', ''))"
   ]
  },
  {
   "cell_type": "markdown",
   "metadata": {},
   "source": [
    "# Test"
   ]
  },
  {
   "cell_type": "code",
   "execution_count": null,
   "metadata": {},
   "outputs": [],
   "source": [
    "input_sdf = np.load('input_sdf.npy')\n",
    "recon_sdf = np.load('recon_sdf.npy')\n",
    "#recon_sdf = sigmoid(torch.tensor(recon_sdf)).numpy().reshape(20, 20, 20)"
   ]
  },
  {
   "cell_type": "code",
   "execution_count": 112,
   "metadata": {},
   "outputs": [
    {
     "data": {
      "text/plain": [
       "3132"
      ]
     },
     "execution_count": 112,
     "metadata": {},
     "output_type": "execute_result"
    }
   ],
   "source": [
    "len(np.where(input_sdf>=0.5)[0])"
   ]
  },
  {
   "cell_type": "code",
   "execution_count": 88,
   "metadata": {},
   "outputs": [
    {
     "data": {
      "text/plain": [
       "(0.0, 0.98990965, -18.649174, 1.9090331)"
      ]
     },
     "execution_count": 88,
     "metadata": {},
     "output_type": "execute_result"
    }
   ],
   "source": [
    "input_sdf.min(), input_sdf.max(), recon_sdf.min(), recon_sdf.max()"
   ]
  },
  {
   "cell_type": "code",
   "execution_count": 89,
   "metadata": {},
   "outputs": [],
   "source": [
    "box_size = 1 + 0.1\n",
    "threshold = 0\n",
    "n_x, n_y, n_z = recon_sdf.shape\n",
    "# occ_hat_padded = np.pad(\n",
    "#             recon_sdf, 1, 'constant', constant_values=-1e6)\n",
    "vertices, triangles = mcubes.marching_cubes(\n",
    "            recon_sdf, threshold)"
   ]
  },
  {
   "cell_type": "code",
   "execution_count": 90,
   "metadata": {},
   "outputs": [],
   "source": [
    "vertices -= 0.5\n",
    "vertices /= np.array([n_x-1, n_y-1, n_z-1])\n",
    "vertices = box_size * (vertices - 0.5)"
   ]
  },
  {
   "cell_type": "code",
   "execution_count": 73,
   "metadata": {},
   "outputs": [],
   "source": [
    "# recon_sdf"
   ]
  },
  {
   "cell_type": "code",
   "execution_count": 12,
   "metadata": {},
   "outputs": [],
   "source": [
    "mesh = trimesh.load('data/runs/22-10-15-10-23_dataset=data_pile_train_constructed_64K,augment=False,net=giga,batch_size=64,lr=2e-04/meshes/input_mesh_1.obj')\n"
   ]
  },
  {
   "cell_type": "code",
   "execution_count": null,
   "metadata": {},
   "outputs": [],
   "source": [
    "mesh.show()"
   ]
  },
  {
   "cell_type": "code",
   "execution_count": 20,
   "metadata": {},
   "outputs": [],
   "source": [
    "data = np.load(\"data/pile/data_pile_train_random_raw_4M/scenes/4cf4f8bc240d4e2ab4f857a7d8e63b8f.npz\")\n",
    "img = data[\"depth_imgs\"]"
   ]
  },
  {
   "cell_type": "code",
   "execution_count": 21,
   "metadata": {},
   "outputs": [],
   "source": [
    "cv2.imshow('>',img[0])\n",
    "cv2.waitKey(0)\n",
    "cv2.destroyAllWindows()"
   ]
  },
  {
   "cell_type": "code",
   "execution_count": 1,
   "metadata": {},
   "outputs": [],
   "source": [
    "import numpy as np\n",
    "def sample_grasp_points(points, normals, finger_depth=0.05, eps=0.1):\n",
    "    # Use masks instead of while loop\n",
    "    # points = np.asarray(point_cloud.points) # Return shape (N, 3)\n",
    "    # normals = np.asarray(point_cloud.normals)   # Return shape (N, 3)\n",
    "    mask  = normals[:,-1] > 0.5\n",
    "    points, normals = points[mask], normals[mask]\n",
    "    # ok = False\n",
    "    # while not ok:\n",
    "    #     # TODO this could result in an infinite loop, though very unlikely\n",
    "    #     idx = np.random.randint(len(points))\n",
    "    #     point, normal = points[idx], normals[idx]\n",
    "    #     ok = normal[2] > 0.1  # make sure the normal is poitning upwards\n",
    "    grasp_depth = np.random.uniform(-eps * finger_depth, (1.0 + eps) * finger_depth)\n",
    "    points = points + normals * grasp_depth\n",
    "    return points, normals"
   ]
  },
  {
   "cell_type": "code",
   "execution_count": 2,
   "metadata": {},
   "outputs": [],
   "source": [
    "ps, ns = sample_grasp_points(np.random.rand(100,3), np.random.rand(100,3))"
   ]
  },
  {
   "cell_type": "code",
   "execution_count": 3,
   "metadata": {},
   "outputs": [
    {
     "data": {
      "text/plain": [
       "((56, 3), (56, 3))"
      ]
     },
     "execution_count": 3,
     "metadata": {},
     "output_type": "execute_result"
    }
   ],
   "source": [
    "ps.shape, ns.shape"
   ]
  },
  {
   "cell_type": "code",
   "execution_count": 84,
   "metadata": {},
   "outputs": [],
   "source": [
    "from vgn.utils.transform import Rotation\n",
    "\n",
    "def get_grasp_queries(points, normals, num_rotations=6):\n",
    "    # Initializing axes (PyB cam)\n",
    "    z_axes = -normals\n",
    "    x_axes = []\n",
    "    y_axes = []\n",
    "\n",
    "    # Possible x axis\n",
    "    x1 = np.r_[1.0, 0.0, 0.0]\n",
    "    x2 = np.r_[0.0, 1.0, 0.0]\n",
    "\n",
    "    # Defining x_axis and y_axis for each point based on dot product condition (overlapping x and z)\n",
    "    y_axes = [np.cross(z, x2) if cond(x1,z) else np.cross(z, x1) for z in z_axes]\n",
    "    x_axes = [np.cross(y, z) for y, z in zip(y_axes, z_axes)]\n",
    "    # Defining rotation matrix with fixed (roll, pitch)\n",
    "    R = [Rotation.from_matrix(np.vstack((x, y, z)).T) for x,y,z in zip(x_axes, y_axes, z_axes)]\n",
    "\n",
    "    # Varying yaws from 0, PI with evenly spaced steps\n",
    "    yaws = np.linspace(0, np.pi, num_rotations)\n",
    "    queries = []\n",
    "\n",
    "    # Loop for saving queries\n",
    "    for i, p in enumerate(points):\n",
    "        for yaw in yaws:\n",
    "            ori = R[i] * Rotation.from_euler(\"z\", yaw)\n",
    "            queries.append((p, ori.as_quat()))\n",
    "\n",
    "    return queries"
   ]
  },
  {
   "cell_type": "code",
   "execution_count": 85,
   "metadata": {},
   "outputs": [
    {
     "name": "stdout",
     "output_type": "stream",
     "text": [
      "56 56\n"
     ]
    }
   ],
   "source": [
    "q_t, p_t, yaw_t, R_t = get_grasp_queries(ps, ns)"
   ]
  },
  {
   "cell_type": "code",
   "execution_count": 86,
   "metadata": {},
   "outputs": [
    {
     "data": {
      "text/plain": [
       "(array([0.01159294, 0.44496253, 0.3517008 ]),\n",
       " (array([0.01159294, 0.44496253, 0.3517008 ]),\n",
       "  array([-0.02146798, -0.92840822,  0.36715067,  0.05289322])),\n",
       " array([0.01159294, 0.44496253, 0.3517008 ]))"
      ]
     },
     "execution_count": 86,
     "metadata": {},
     "output_type": "execute_result"
    }
   ],
   "source": [
    "ps[-1], q_t[-1], p_t"
   ]
  },
  {
   "cell_type": "code",
   "execution_count": 89,
   "metadata": {},
   "outputs": [],
   "source": [
    "x1 = np.r_[1.0, 0.0, 0.0]\n",
    "x2 = np.r_[0.0, 1.0, 0.0]\n",
    "z = -1 * ns[-1]\n",
    "y = np.cross(z, x2) if cond(x1,z) else np.cross(z, x1) \n",
    "x = np.cross(y,z)\n",
    "R = Rotation.from_matrix(np.vstack((x, y, z)).T)"
   ]
  },
  {
   "cell_type": "code",
   "execution_count": 91,
   "metadata": {},
   "outputs": [
    {
     "data": {
      "text/plain": [
       "(array([[ 0.99348287, -0.00102253, -0.11397697],\n",
       "        [-0.07870166, -0.72947902, -0.67946038],\n",
       "        [-0.08244904,  0.68400242, -0.72480538]]),\n",
       " array([[ 0.99348287, -0.00102253, -0.11397697],\n",
       "        [-0.07870166, -0.72947902, -0.67946038],\n",
       "        [-0.08244904,  0.68400242, -0.72480538]]))"
      ]
     },
     "execution_count": 91,
     "metadata": {},
     "output_type": "execute_result"
    }
   ],
   "source": [
    "R.as_matrix(), R_t.as_matrix()"
   ]
  },
  {
   "cell_type": "code",
   "execution_count": 88,
   "metadata": {},
   "outputs": [
    {
     "data": {
      "text/plain": [
       "array([-0.02146798, -0.92840822,  0.36715067,  0.05289322])"
      ]
     },
     "execution_count": 88,
     "metadata": {},
     "output_type": "execute_result"
    }
   ],
   "source": [
    "(R_t *  Rotation.from_euler(\"z\", yaw_t)).as_quat()"
   ]
  },
  {
   "cell_type": "code",
   "execution_count": null,
   "metadata": {},
   "outputs": [],
   "source": []
  }
 ],
 "metadata": {
  "kernelspec": {
   "display_name": "Python 3.8.13 ('giga')",
   "language": "python",
   "name": "python3"
  },
  "language_info": {
   "codemirror_mode": {
    "name": "ipython",
    "version": 3
   },
   "file_extension": ".py",
   "mimetype": "text/x-python",
   "name": "python",
   "nbconvert_exporter": "python",
   "pygments_lexer": "ipython3",
   "version": "3.8.13 (default, Mar 28 2022, 11:38:47) \n[GCC 7.5.0]"
  },
  "vscode": {
   "interpreter": {
    "hash": "0691386a9d48df7c05a3616a951f00a5f34f293c8d5f5aed00d87c655274d97a"
   }
  }
 },
 "nbformat": 4,
 "nbformat_minor": 2
}
