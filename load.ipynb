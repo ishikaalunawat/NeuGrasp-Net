{
 "cells": [
  {
   "cell_type": "code",
   "execution_count": 1,
   "metadata": {},
   "outputs": [],
   "source": [
    "import numpy as np\n",
    "# import cv2\n",
    "# import trimesh\n",
    "# from torch import sigmoid\n",
    "# from vgn.ConvONets.utils import libmcubes\n",
    "# import mcubes"
   ]
  },
  {
   "cell_type": "code",
   "execution_count": null,
   "metadata": {},
   "outputs": [],
   "source": [
    "import os\n",
    "len(os.listdir('data/pile/data_pile_train_raw_4M/scenes'))"
   ]
  },
  {
   "cell_type": "code",
   "execution_count": 9,
   "metadata": {},
   "outputs": [],
   "source": [
    "di = {\"Train\" + str(k):v for k, v in enumerate(np.random.rand(5))}"
   ]
  },
  {
   "cell_type": "code",
   "execution_count": 11,
   "metadata": {},
   "outputs": [
    {
     "name": "stdout",
     "output_type": "stream",
     "text": [
      "Val Train0: 0.3900 Train1: 0.5451 Train2: 0.6462 Train3: 0.3115 Train4: 0.4339\n"
     ]
    }
   ],
   "source": [
    "msg = 'Val'\n",
    "for k, v in di.items():\n",
    "    msg += f' {k}: {v:.4f}'\n",
    "\n",
    "print(msg)"
   ]
  },
  {
   "cell_type": "markdown",
   "metadata": {},
   "source": [
    "# Generate dataset log file"
   ]
  },
  {
   "cell_type": "code",
   "execution_count": 5,
   "metadata": {},
   "outputs": [
    {
     "data": {
      "text/plain": [
       "623934"
      ]
     },
     "execution_count": 5,
     "metadata": {},
     "output_type": "execute_result"
    }
   ],
   "source": [
    "import pandas as pd\n",
    "from pathlib import Path\n",
    "\n",
    "dataset = Path('data_pile_train_random_raw_4M')\n",
    "df = pd.read_csv('data/pile/data_pile_train_random_raw_4M/grasps.csv')\n",
    "len(df)"
   ]
  },
  {
   "cell_type": "code",
   "execution_count": 6,
   "metadata": {},
   "outputs": [],
   "source": [
    "counts_df = df.groupby('scene_id').size().reset_index(name='count')\n",
    "labels_df = df.groupby(['scene_id', 'label']).size().reset_index(name='count')\n",
    "filename = 'summary_%s.txt' % (dataset.name)\n",
    "with open(filename, 'w') as f:\n",
    "    summary = \"Dataset description: \\n Total samples: %d\\n Total number of scenes: %d \\n Max samples of scenes: %d \\n Mean samples of scenes: %d \\n Min samples of scenes: %d \\n\\n\" % (len(df), len(counts_df), counts_df['count'].max(), int(counts_df['count'].mean()), counts_df['count'].min())\n",
    "    f.write(summary)\n",
    "\n",
    "counts_df.to_csv(filename, mode = 'a', sep='\\t', header=True, index=False)\n",
    "labels_df.to_csv(filename, mode = 'a', sep='\\t', header=True, index=False)"
   ]
  },
  {
   "cell_type": "code",
   "execution_count": 7,
   "metadata": {},
   "outputs": [
    {
     "name": "stdout",
     "output_type": "stream",
     "text": [
      " Total samples: 623934; Total number of scenes: 33311 ; Max samples of scenes: 74 ; Mean samples of scenes: 18 \n"
     ]
    }
   ],
   "source": [
    "with open(filename, 'r') as f:\n",
    "    print((\";\").join(f.readlines()[1:5]).replace('\\n', ''))"
   ]
  },
  {
   "cell_type": "markdown",
   "metadata": {},
   "source": [
    "# Test"
   ]
  },
  {
   "cell_type": "code",
   "execution_count": null,
   "metadata": {},
   "outputs": [],
   "source": [
    "input_sdf = np.load('input_sdf.npy')\n",
    "recon_sdf = np.load('recon_sdf.npy')\n",
    "#recon_sdf = sigmoid(torch.tensor(recon_sdf)).numpy().reshape(20, 20, 20)"
   ]
  },
  {
   "cell_type": "code",
   "execution_count": 112,
   "metadata": {},
   "outputs": [
    {
     "data": {
      "text/plain": [
       "3132"
      ]
     },
     "execution_count": 112,
     "metadata": {},
     "output_type": "execute_result"
    }
   ],
   "source": [
    "len(np.where(input_sdf>=0.5)[0])"
   ]
  },
  {
   "cell_type": "code",
   "execution_count": 88,
   "metadata": {},
   "outputs": [
    {
     "data": {
      "text/plain": [
       "(0.0, 0.98990965, -18.649174, 1.9090331)"
      ]
     },
     "execution_count": 88,
     "metadata": {},
     "output_type": "execute_result"
    }
   ],
   "source": [
    "input_sdf.min(), input_sdf.max(), recon_sdf.min(), recon_sdf.max()"
   ]
  },
  {
   "cell_type": "code",
   "execution_count": 89,
   "metadata": {},
   "outputs": [],
   "source": [
    "box_size = 1 + 0.1\n",
    "threshold = 0\n",
    "n_x, n_y, n_z = recon_sdf.shape\n",
    "# occ_hat_padded = np.pad(\n",
    "#             recon_sdf, 1, 'constant', constant_values=-1e6)\n",
    "vertices, triangles = mcubes.marching_cubes(\n",
    "            recon_sdf, threshold)"
   ]
  },
  {
   "cell_type": "code",
   "execution_count": 90,
   "metadata": {},
   "outputs": [],
   "source": [
    "vertices -= 0.5\n",
    "vertices /= np.array([n_x-1, n_y-1, n_z-1])\n",
    "vertices = box_size * (vertices - 0.5)"
   ]
  },
  {
   "cell_type": "code",
   "execution_count": 8,
   "metadata": {},
   "outputs": [],
   "source": [
    "# recon_sdf"
   ]
  },
  {
   "cell_type": "code",
   "execution_count": 1,
   "metadata": {},
   "outputs": [],
   "source": [
    "import trimesh\n",
    "mesh = trimesh.load('/home/hypatia/6D-DAAD/unisurf/out/giga/scene001/extraction/meshes/scan_world_scale.obj')"
   ]
  },
  {
   "cell_type": "code",
   "execution_count": 2,
   "metadata": {},
   "outputs": [
    {
     "data": {
      "text/plain": [
       "<trimesh.Trimesh(vertices.shape=(2798691, 3), faces.shape=(5601248, 3))>"
      ]
     },
     "execution_count": 2,
     "metadata": {},
     "output_type": "execute_result"
    }
   ],
   "source": [
    "mesh"
   ]
  },
  {
   "cell_type": "code",
   "execution_count": 2,
   "metadata": {},
   "outputs": [],
   "source": [
    "mesh.show()"
   ]
  },
  {
   "cell_type": "code",
   "execution_count": 4,
   "metadata": {},
   "outputs": [
    {
     "data": {
      "text/plain": [
       "['pc']"
      ]
     },
     "execution_count": 4,
     "metadata": {},
     "output_type": "execute_result"
    }
   ],
   "source": [
    "from vgn.utils.implicit import get_scene_from_mesh_pose_list\n",
    "import numpy as np\n",
    "\n",
    "mesh_pose_list  = np.load('unisurf_data_pc/scene_1.npz', allow_pickle=True)['pc']\n",
    "mesh = get_scene_from_mesh_pose_list(mesh_pose_list)\n",
    "print(mesh)\n",
    "mesh.show()"
   ]
  }
 ],
 "metadata": {
  "kernelspec": {
   "display_name": "Python 3.8.13 ('giga')",
   "language": "python",
   "name": "python3"
  },
  "language_info": {
   "codemirror_mode": {
    "name": "ipython",
    "version": 3
   },
   "file_extension": ".py",
   "mimetype": "text/x-python",
   "name": "python",
   "nbconvert_exporter": "python",
   "pygments_lexer": "ipython3",
   "version": "3.8.13 (default, Mar 28 2022, 11:38:47) \n[GCC 7.5.0]"
  },
  "vscode": {
   "interpreter": {
    "hash": "0691386a9d48df7c05a3616a951f00a5f34f293c8d5f5aed00d87c655274d97a"
   }
  }
 },
 "nbformat": 4,
 "nbformat_minor": 2
}
