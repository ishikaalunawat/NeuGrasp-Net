{
 "cells": [
  {
   "cell_type": "code",
   "execution_count": 4,
   "metadata": {},
   "outputs": [
    {
     "data": {
      "application/vnd.jupyter.widget-view+json": {
       "model_id": "80a8c9951415489b8b9074201ad46d96",
       "version_major": 2,
       "version_minor": 0
      },
      "text/plain": [
       "JVisualizer with 1 geometries"
      ]
     },
     "metadata": {},
     "output_type": "display_data"
    }
   ],
   "source": [
    "import numpy as np\n",
    "id = 2118097\n",
    "occ_data = np.load('/work/scratch/sj93qicy/potato-net/data/pile/data_pile_train_random_raw_2M_GPG_MIXED/occ_grasp_point_clouds_noisy/'+str(id)+'.npz')\n",
    "points = occ_data['points']\n",
    "occ = occ_data['occ']\n",
    "grasp_pc_data = np.load('/work/scratch/sj93qicy/potato-net/data/pile/data_pile_train_random_raw_2M_GPG_MIXED/grasp_point_clouds_gt/'+str(id)+'.npz')\n",
    "grasp_pc = grasp_pc_data['pc']\n",
    "import open3d as o3d\n",
    "from open3d import JVisualizer\n",
    "visualizer4 = JVisualizer()\n",
    "occ_pc = o3d.geometry.PointCloud()\n",
    "not_occ_pc = o3d.geometry.PointCloud()\n",
    "occ_pc.points = o3d.utility.Vector3dVector(points[occ])\n",
    "not_occ_pc.points = o3d.utility.Vector3dVector(points[~occ])\n",
    "grasp_pc_o3d = o3d.geometry.PointCloud()\n",
    "grasp_pc_o3d.points = o3d.utility.Vector3dVector(grasp_pc)\n",
    "\n",
    "occ_pc.colors = o3d.utility.Vector3dVector(np.tile(np.array([0.0, 0.45, 0.9]), (np.asarray(occ_pc.points).shape[0], 1)))\n",
    "not_occ_pc.colors = o3d.utility.Vector3dVector(np.tile(np.array([0.4, 0.9, 0.45]), (np.asarray(not_occ_pc.points).shape[0], 1)))\n",
    "grasp_pc_o3d.colors = o3d.utility.Vector3dVector(np.tile(np.array([1.0, 0.45, 0.0]), (np.asarray(grasp_pc_o3d.points).shape[0], 1)))\n",
    "visualizer4.add_geometry(occ_pc)\n",
    "visualizer4.add_geometry(not_occ_pc)\n",
    "visualizer4.add_geometry(grasp_pc_o3d)\n",
    "visualizer4.show()\n"
   ]
  },
  {
   "cell_type": "code",
   "execution_count": 1,
   "metadata": {},
   "outputs": [],
   "source": [
    "from vgn.io import read_df, read_df_with_surface_clouds\n",
    "from pathlib import Path\n",
    "df1 = read_df(Path('/work/scratch/sj93qicy/potato-net/data/packed/data_packed_train_random_raw_4M_GPG_60'))\n",
    "df2 = read_df_with_surface_clouds(Path('/work/scratch/sj93qicy/potato-net/data/pile/data_pile_train_random_raw_4M_GPG_60'))"
   ]
  },
  {
   "cell_type": "code",
   "execution_count": 2,
   "metadata": {},
   "outputs": [],
   "source": [
    "scenes = df1['scene_id'].unique()\n",
    "scenes2 = df2['scene_id'].unique()"
   ]
  },
  {
   "cell_type": "code",
   "execution_count": 3,
   "metadata": {},
   "outputs": [
    {
     "data": {
      "text/plain": [
       "(32215, 33298)"
      ]
     },
     "execution_count": 3,
     "metadata": {},
     "output_type": "execute_result"
    }
   ],
   "source": [
    "len(scenes), len(scenes2)"
   ]
  }
 ],
 "metadata": {
  "kernelspec": {
   "display_name": "Python 3",
   "language": "python",
   "name": "python3"
  },
  "language_info": {
   "codemirror_mode": {
    "name": "ipython",
    "version": 3
   },
   "file_extension": ".py",
   "mimetype": "text/x-python",
   "name": "python",
   "nbconvert_exporter": "python",
   "pygments_lexer": "ipython3",
   "version": "3.8.13"
  },
  "orig_nbformat": 4,
  "vscode": {
   "interpreter": {
    "hash": "2fdf901c31fc67ed55bbb90f38943bb70f17cb0eef6cbf70e1531a438eebd547"
   }
  }
 },
 "nbformat": 4,
 "nbformat_minor": 2
}
