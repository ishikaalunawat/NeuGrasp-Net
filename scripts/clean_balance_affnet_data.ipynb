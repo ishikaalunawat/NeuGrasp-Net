{
 "cells": [
  {
   "cell_type": "code",
   "execution_count": 1,
   "metadata": {},
   "outputs": [],
   "source": [
    "from pathlib import Path\n",
    "\n",
    "import numpy as np\n",
    "\n",
    "from vgn.io import *\n",
    "from vgn.perception import *\n",
    "from vgn.assign_grasp_affordance import affrdnce_label_dict\n",
    "from vgn.utils.implicit import semantic_label_dict"
   ]
  },
  {
   "cell_type": "code",
   "execution_count": 2,
   "metadata": {},
   "outputs": [],
   "source": [
    "root = Path('/work/scratch/sj93qicy/potato-net/data/3DGraspAff/data_affnet_train_random_raw_GPG_60')\n",
    "df = read_df_with_surface_clouds(root)"
   ]
  },
  {
   "cell_type": "code",
   "execution_count": 3,
   "metadata": {},
   "outputs": [
    {
     "name": "stdout",
     "output_type": "stream",
     "text": [
      "Positives: 967777, Negatives: 967650\n"
     ]
    }
   ],
   "source": [
    "# Grasp label balance\n",
    "positives = df[df[\"label\"] == 1]\n",
    "negatives = df[df[\"label\"] == 0]\n",
    "print(\"Positives: {}, Negatives: {}\".format(len(positives), len(negatives)))"
   ]
  },
  {
   "cell_type": "code",
   "execution_count": 4,
   "metadata": {},
   "outputs": [
    {
     "name": "stdout",
     "output_type": "stream",
     "text": [
      "Affordance: handover, Positives: 525106, Negatives: 442671, Ratio: 1.1862218216237341\n",
      "Affordance: cut, Positives: 157387, Negatives: 810390, Ratio: 0.19421142906501807\n",
      "Affordance: stab, Positives: 157387, Negatives: 810390, Ratio: 0.19421142906501807\n",
      "Affordance: lift, Positives: 50334, Negatives: 917443, Ratio: 0.0548633539086352\n",
      "Affordance: wrap, Positives: 103662, Negatives: 864115, Ratio: 0.11996319934268009\n",
      "Affordance: pour, Positives: 261693, Negatives: 706084, Ratio: 0.3706258745418392\n",
      "Affordance: wear, Positives: 70935, Negatives: 896842, Ratio: 0.07909419942420182\n"
     ]
    }
   ],
   "source": [
    "# Affordance label balance\n",
    "# only the positives have an affordance label\n",
    "for aff_key in affrdnce_label_dict.keys():\n",
    "    affrdnce_positives = positives[positives[aff_key] == 1]\n",
    "    affrdnce_negatives = positives[positives[aff_key] == 0]\n",
    "    print(\"Affordance: {}, Positives: {}, Negatives: {}, Ratio: {}\".format(\n",
    "        aff_key, len(affrdnce_positives), len(affrdnce_negatives), len(affrdnce_positives) / len(affrdnce_negatives)))\n"
   ]
  }
 ],
 "metadata": {
  "kernelspec": {
   "display_name": "GIGA-6DoF",
   "language": "python",
   "name": "python3"
  },
  "language_info": {
   "codemirror_mode": {
    "name": "ipython",
    "version": 3
   },
   "file_extension": ".py",
   "mimetype": "text/x-python",
   "name": "python",
   "nbconvert_exporter": "python",
   "pygments_lexer": "ipython3",
   "version": "3.8.13"
  },
  "orig_nbformat": 4,
  "vscode": {
   "interpreter": {
    "hash": "838152720d4d6971dc8654fbdb394087b2421f5e78d77e4d8c651076f26533d5"
   }
  }
 },
 "nbformat": 4,
 "nbformat_minor": 2
}
