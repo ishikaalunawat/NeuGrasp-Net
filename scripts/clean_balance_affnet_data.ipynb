{
 "cells": [
  {
   "cell_type": "code",
   "execution_count": 2,
   "metadata": {},
   "outputs": [],
   "source": [
    "from pathlib import Path\n",
    "\n",
    "import numpy as np\n",
    "\n",
    "from vgn.io import *\n",
    "from vgn.perception import *\n",
    "from vgn.assign_grasp_affordance import affrdnce_label_dict\n",
    "from vgn.utils.implicit import semantic_label_dict"
   ]
  },
  {
   "cell_type": "code",
   "execution_count": 3,
   "metadata": {},
   "outputs": [],
   "source": [
    "root = Path('../data/3DGraspAff/data_affnet_train_random_raw_GPG_60')\n",
    "df = read_df_with_surface_clouds(root)"
   ]
  },
  {
   "cell_type": "code",
   "execution_count": 4,
   "metadata": {},
   "outputs": [
    {
     "name": "stdout",
     "output_type": "stream",
     "text": [
      "Positives: 967777, Negatives: 967650\n"
     ]
    }
   ],
   "source": [
    "# Grasp label balance\n",
    "positives = df[df[\"label\"] == 1]\n",
    "negatives = df[df[\"label\"] == 0]\n",
    "print(\"Positives: {}, Negatives: {}\".format(len(positives), len(negatives)))"
   ]
  },
  {
   "cell_type": "code",
   "execution_count": 5,
   "metadata": {},
   "outputs": [
    {
     "name": "stdout",
     "output_type": "stream",
     "text": [
      "Affordance: handover, Positives: 525106, Negatives: 442671, Pos_ratio: 0.5425898734935838\n",
      "Affordance: cut, Positives: 157387, Negatives: 810390, Pos_ratio: 0.16262734080268493\n",
      "Affordance: stab, Positives: 157387, Negatives: 810390, Pos_ratio: 0.16262734080268493\n",
      "Affordance: lift, Positives: 50334, Negatives: 917443, Pos_ratio: 0.05200991550739478\n",
      "Affordance: wrap, Positives: 103662, Negatives: 864115, Pos_ratio: 0.10711351892016446\n",
      "Affordance: pour, Positives: 261693, Negatives: 706084, Pos_ratio: 0.27040630227831414\n",
      "Affordance: wear, Positives: 70935, Negatives: 896842, Pos_ratio: 0.07329684421101142\n"
     ]
    }
   ],
   "source": [
    "def check_balance(positives):\n",
    "    # Check affordance label balance\n",
    "    # only the positives have an affordance label\n",
    "    for aff_key in affrdnce_label_dict.keys():\n",
    "        affrdnce_positives = positives[positives[aff_key] == 1]\n",
    "        affrdnce_negatives = positives[positives[aff_key] == 0]\n",
    "        print(\"Affordance: {}, Positives: {}, Negatives: {}, Pos_ratio: {}\".format(\n",
    "            aff_key, len(affrdnce_positives), len(affrdnce_negatives), len(affrdnce_positives) / (len(affrdnce_positives)+len(affrdnce_negatives))))\n",
    "\n",
    "check_balance(positives)"
   ]
  },
  {
   "cell_type": "code",
   "execution_count": 6,
   "metadata": {},
   "outputs": [
    {
     "data": {
      "text/plain": [
       "29005"
      ]
     },
     "execution_count": 6,
     "metadata": {},
     "output_type": "execute_result"
    }
   ],
   "source": [
    "# Num of positives with no affordance label:\n",
    "num_no_aff = positives[affrdnce_label_dict.keys()].sum(axis=1).value_counts()[0]\n",
    "num_no_aff"
   ]
  },
  {
   "cell_type": "code",
   "execution_count": 7,
   "metadata": {},
   "outputs": [
    {
     "data": {
      "text/plain": [
       "1    250791\n",
       "2    162844\n",
       "0     29005\n",
       "3        31\n",
       "dtype: int64"
      ]
     },
     "execution_count": 7,
     "metadata": {},
     "output_type": "execute_result"
    }
   ],
   "source": [
    "# Num of positives that are not handovers but are something else:\n",
    "not_handovers = positives[positives['handover'] == 0]\n",
    "something_else = not_handovers[affrdnce_label_dict.keys()].sum(axis=1).value_counts()\n",
    "something_else"
   ]
  },
  {
   "cell_type": "code",
   "execution_count": 8,
   "metadata": {},
   "outputs": [
    {
     "name": "stdout",
     "output_type": "stream",
     "text": [
      "Affordance: handover, Positives: 740649, Negatives: 582536, Pos_ratio: 0.5597471253074967\n",
      "Affordance: cut, Positives: 214281, Negatives: 1108904, Pos_ratio: 0.16194334125613577\n",
      "Affordance: stab, Positives: 214281, Negatives: 1108904, Pos_ratio: 0.16194334125613577\n",
      "Affordance: lift, Positives: 214390, Negatives: 1108795, Pos_ratio: 0.1620257182480152\n",
      "Affordance: wrap, Positives: 172143, Negatives: 1151042, Pos_ratio: 0.13009745424865005\n",
      "Affordance: pour, Positives: 214285, Negatives: 1108900, Pos_ratio: 0.16194636426501208\n",
      "Affordance: wear, Positives: 214314, Negatives: 1108871, Pos_ratio: 0.1619682810793653\n"
     ]
    }
   ],
   "source": [
    "# BALANCE THE DATASET\n",
    "new_dataset_size = 3000000\n",
    "new_num_positives = new_dataset_size//2\n",
    "num_aff_classes = len(affrdnce_label_dict.keys())\n",
    "new_num_positives_per_aff_class = new_num_positives // num_aff_classes\n",
    "# copy the df\n",
    "new_df = df.copy()\n",
    "for aff_key in ['pour', 'lift', 'wear', 'wrap', 'cut', 'stab', 'pour']:#affrdnce_label_dict.keys():\n",
    "    affrdnce_positives = new_df[new_df[aff_key] == 1]\n",
    "    affrdnce_negatives = new_df[new_df[aff_key] == 0]\n",
    "    if len(affrdnce_positives) > new_num_positives_per_aff_class:\n",
    "        # randomly drop positives\n",
    "        new_df = new_df.drop(affrdnce_positives.sample((len(affrdnce_positives) - new_num_positives_per_aff_class)).index)\n",
    "    else:\n",
    "        # oversample the positives\n",
    "        new_df = new_df.append(affrdnce_positives.sample(new_num_positives_per_aff_class - len(affrdnce_positives), replace=True), ignore_index=True)\n",
    "\n",
    "check_balance(positives=new_df[new_df[\"label\"] == 1])"
   ]
  },
  {
   "cell_type": "code",
   "execution_count": 9,
   "metadata": {},
   "outputs": [
    {
     "name": "stdout",
     "output_type": "stream",
     "text": [
      "Positives: 1323185, Negatives: 1323185\n"
     ]
    }
   ],
   "source": [
    "# Now balance the grasp quality labels\n",
    "num_grasp_pos = len(new_df[new_df[\"label\"] == 1])\n",
    "num_grasp_neg = len(new_df[new_df[\"label\"] == 0])\n",
    "new_df = new_df.append(negatives.sample(num_grasp_pos - num_grasp_neg, replace=True), ignore_index=True)\n",
    "print(\"Positives: {}, Negatives: {}\".format(len(new_df[new_df[\"label\"] == 1]), len(new_df[new_df[\"label\"] == 0])))"
   ]
  },
  {
   "cell_type": "code",
   "execution_count": 10,
   "metadata": {},
   "outputs": [],
   "source": [
    "# write df to file\n",
    "new_df.to_csv(root / \"grasps_aff_balanced_with_clouds.csv\", index=False)"
   ]
  }
 ],
 "metadata": {
  "kernelspec": {
   "display_name": "GIGA-6DoF",
   "language": "python",
   "name": "python3"
  },
  "language_info": {
   "codemirror_mode": {
    "name": "ipython",
    "version": 3
   },
   "file_extension": ".py",
   "mimetype": "text/x-python",
   "name": "python",
   "nbconvert_exporter": "python",
   "pygments_lexer": "ipython3",
   "version": "3.8.8"
  },
  "orig_nbformat": 4,
  "vscode": {
   "interpreter": {
    "hash": "838152720d4d6971dc8654fbdb394087b2421f5e78d77e4d8c651076f26533d5"
   }
  }
 },
 "nbformat": 4,
 "nbformat_minor": 2
}
