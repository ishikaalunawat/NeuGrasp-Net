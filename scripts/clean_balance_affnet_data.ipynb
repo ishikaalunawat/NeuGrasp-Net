{
 "cells": [
  {
   "cell_type": "code",
   "execution_count": 1,
   "metadata": {},
   "outputs": [],
   "source": [
    "from pathlib import Path\n",
    "\n",
    "import numpy as np\n",
    "\n",
    "from vgn.io import *\n",
    "from vgn.perception import *\n",
    "from vgn.assign_grasp_affordance import affrdnce_label_dict\n",
    "from vgn.utils.implicit import semantic_label_dict"
   ]
  },
  {
   "cell_type": "code",
   "execution_count": 2,
   "metadata": {},
   "outputs": [],
   "source": [
    "root = Path('/home/sjauhri/IAS_WS/potato-net/GIGA-TSDF/GIGA-6DoF/data/3DGraspAff/test_data_affnet_train_random_raw_GPG_60')\n",
    "df = read_df_with_surface_clouds(root)"
   ]
  },
  {
   "cell_type": "code",
   "execution_count": 3,
   "metadata": {},
   "outputs": [
    {
     "name": "stdout",
     "output_type": "stream",
     "text": [
      "Positives: 5, Negatives: 4\n"
     ]
    }
   ],
   "source": [
    "# Grasp label balance\n",
    "positives = df[df[\"label\"] == 1]\n",
    "negatives = df[df[\"label\"] == 0]\n",
    "print(\"Positives: {}, Negatives: {}\".format(len(positives), len(negatives)))"
   ]
  },
  {
   "cell_type": "code",
   "execution_count": 4,
   "metadata": {},
   "outputs": [
    {
     "name": "stdout",
     "output_type": "stream",
     "text": [
      "Affordance: handover, Positives: 2, Negatives: 7\n",
      "Affordance: cut, Positives: 0, Negatives: 9\n",
      "Affordance: stab, Positives: 0, Negatives: 9\n",
      "Affordance: lift, Positives: 0, Negatives: 9\n",
      "Affordance: wrap, Positives: 0, Negatives: 9\n",
      "Affordance: pour, Positives: 3, Negatives: 6\n",
      "Affordance: wear, Positives: 0, Negatives: 9\n"
     ]
    }
   ],
   "source": [
    "# Affordance label balance\n",
    "for aff_key in affrdnce_label_dict.keys():\n",
    "    affrdnce_positives = df[df[aff_key] == 1]\n",
    "    affrdnce_negatives = df[df[aff_key] == 0]\n",
    "    print(\"Affordance: {}, Positives: {}, Negatives: {}\".format(aff_key, len(affrdnce_positives), len(affrdnce_negatives)))\n"
   ]
  }
 ],
 "metadata": {
  "kernelspec": {
   "display_name": "GIGA-6DoF",
   "language": "python",
   "name": "python3"
  },
  "language_info": {
   "codemirror_mode": {
    "name": "ipython",
    "version": 3
   },
   "file_extension": ".py",
   "mimetype": "text/x-python",
   "name": "python",
   "nbconvert_exporter": "python",
   "pygments_lexer": "ipython3",
   "version": "3.8.8"
  },
  "orig_nbformat": 4,
  "vscode": {
   "interpreter": {
    "hash": "838152720d4d6971dc8654fbdb394087b2421f5e78d77e4d8c651076f26533d5"
   }
  }
 },
 "nbformat": 4,
 "nbformat_minor": 2
}
